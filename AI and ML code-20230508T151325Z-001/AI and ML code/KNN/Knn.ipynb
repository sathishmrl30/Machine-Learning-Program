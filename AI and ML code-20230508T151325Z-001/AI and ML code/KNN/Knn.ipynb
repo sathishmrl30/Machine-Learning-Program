# -*- coding: utf-8 -*-
"""
Created on Thu Apr 20 21:00:30 2023

@author: Nature
"""

# importing libraries  
import numpy as nm  
import matplotlib.pyplot as mtp  
import pandas as pd  
  
#importing datasets  
data_set= pd.read_csv('D:/Knn/User_Data.csv') 
x= data_set.iloc[:, [2,3]].values  
y= data_set.iloc[:, 4].values  
# Splitting the dataset into training and test set.  
from sklearn.model_selection import train_test_split  
x_train, x_test, y_train, y_test= train_test_split(x, y, test_size= 0.25, random_state=0)  
  
#feature Scaling  
from sklearn.preprocessing import StandardScaler    
st_x= StandardScaler()    
x_train= st_x.fit_transform(x_train)    
x_test= st_x.transform(x_test)  
#Fitting K-NN classifier to the training set  
from sklearn.neighbors import KNeighborsClassifier  
classifier= KNeighborsClassifier(n_neighbors=5, metric='minkowski', p=2 )  
classifier.fit(x_train, y_train) 
#Predicting the test set result  
y_pred= classifier.predict(x_test)  
from sklearn.metrics import confusion_matrix  
cm= confusion_matrix(y_test, y_pred)  
